{
 "cells": [
  {
   "cell_type": "code",
   "execution_count": 1,
   "metadata": {},
   "outputs": [],
   "source": [
    "import pandas as pd\n",
    "import numpy as np\n",
    "import math\n",
    "from sklearn.model_selection import train_test_split\n",
    "#pass the data.csv file here\n",
    "x_data = pd.read_csv(\"/Users/karunparashar/Downloads/New Folder With Items/coursework/home_work_assignments/DIC/Assignment1/data.csv\")\n",
    "x_t = x_data.iloc[:,0:48]\n",
    "y_t = x_data.iloc[:,48]\n",
    "x_train, x_test, y_train, y_test = train_test_split(x_t,y_t,train_size=0.7,test_size=0.3,\n",
    "                                                    random_state = 7)"
   ]
  },
  {
   "cell_type": "markdown",
   "metadata": {},
   "source": [
    "### Random Forest Implementation -The complete data takes more time to build parallel trees, hence the training data has been limited to 1000 data points and is tested upon 300 testing points(can be changed)"
   ]
  },
  {
   "cell_type": "markdown",
   "metadata": {},
   "source": [
    "The following cell calculates gini index for whatever dataframe we pass through assuming that the last column is the response column(for standardisation purpose)"
   ]
  },
  {
   "cell_type": "code",
   "execution_count": 2,
   "metadata": {},
   "outputs": [],
   "source": [
    "def gini_calc(x):\n",
    "    gini = 1\n",
    "    prob_sq = 0\n",
    "    x_last = x.iloc[:,-1]\n",
    "    xuni = x_last.unique()\n",
    "    for i in xuni:\n",
    "        prob_sq = prob_sq + (len(x_last[x_last==i])/len(x_last))**2\n",
    "    return 1-prob_sq"
   ]
  },
  {
   "cell_type": "markdown",
   "metadata": {},
   "source": [
    "The following cell finds the feature with most information gain, the feature name and the splitting value again with the assumption that the last column is the dataframe response column"
   ]
  },
  {
   "cell_type": "code",
   "execution_count": 3,
   "metadata": {},
   "outputs": [],
   "source": [
    "def info_gain(x,m):\n",
    "    import random\n",
    "    df_a = x\n",
    "    df_to_be_passed = df_a.iloc[:,0:len(df_a.columns)-1]\n",
    "    df_WR = df_a.iloc[:,0:len(df_a.columns)-1]\n",
    "    features_selected = random.sample(population=list(df_WR.columns), k=m)\n",
    "    df_selected = df_WR[features_selected]\n",
    "    df_joined = pd.concat([df_selected,df.iloc[:,-1]],axis=1)\n",
    "    df2 = df_joined.copy(deep = True)\n",
    "    best_info = 0\n",
    "    x = df_joined\n",
    "    for i in x:\n",
    "        if i!=x.columns[-1]:\n",
    "            for j in x[i].quantile([0.25,0.5,0.75]):\n",
    "                df2 = x[x[i]<=j]\n",
    "                gini_left = gini_calc(df2)\n",
    "                WI_1 = gini_left*(len(x[i][x[i]<=j])/len(x[i]))\n",
    "                df2 = x[x[i]>j]\n",
    "                gini_right = gini_calc(df2)\n",
    "                WI_2 = gini_right*(len(x[i][x[i]>j])/len(x[i]))\n",
    "                WI = WI_1+WI_2\n",
    "                info_gain = gini_calc(x) - WI\n",
    "                if info_gain > best_info:\n",
    "                    best_info = info_gain\n",
    "                    condition_value = j\n",
    "                    condition_column = i\n",
    "                else:\n",
    "                    pass\n",
    "    return [condition_column,condition_value,best_info]"
   ]
  },
  {
   "cell_type": "markdown",
   "metadata": {},
   "source": [
    "The following cell includes the building of a single tree number of features for that tree can be specified in line #21\n",
    "\n",
    "The depth of the tree , specified in line # 13 has also been selected as 150 which increases the time taken by the random forest to build more number of trees"
   ]
  },
  {
   "cell_type": "code",
   "execution_count": 31,
   "metadata": {},
   "outputs": [],
   "source": [
    "#defining the class Node with required attributes\n",
    "class Node:\n",
    "    def __init__(self,subtree,columnname,splitvalue):\n",
    "        self.subtree=subtree\n",
    "        self.columnname=columnname\n",
    "        self.splitvalue=splitvalue\n",
    "        self.leftchild=None\n",
    "        self.rightchild=None\n",
    "        self.classification=None\n",
    "\n",
    "#to split the data at a node if the data is higher than a threshold, in this case, it is 150 data points\n",
    "def split(data):\n",
    "    if (len(data.index)<=150): \n",
    "        class_leafnode=(data[data.columns[-1]].value_counts().idxmax()) \n",
    "        #this part defines the leaf node, that is there is no left or right node with respect to that node\n",
    "        newnode=Node(data,None,None)\n",
    "        #the classification part is dedicated to the leaf node as there are no splits ahead\n",
    "        newnode.classification=class_leafnode\n",
    "        return newnode\n",
    "#here we calculate the column and the value at which the node will split, on the basis of number of features selected(can be changed in this line)\n",
    "    [condition_column,condition_value,best_info] = info_gain(data,15)\n",
    "#the node is now assigned the dataframe(sliced), the splitting column and its value\n",
    "    newnode= Node(data,condition_column,condition_value)\n",
    "#extract left child data\n",
    "    leftchild_data=data.loc[data[condition_column] <= condition_value]\n",
    "    newnode.leftchild=split(leftchild_data)\n",
    "#extract right child data\n",
    "    rightchild_data=data.loc[data[condition_column] > condition_value]\n",
    "    newnode.rightchild=split(rightchild_data)\n",
    "\n",
    "    return newnode\n",
    "#this function takes in the root node calculated from above class to start with and the test data to predict\n",
    "def predictClass(root,testdata):\n",
    "    list_pred=[]\n",
    "    root_initial=root\n",
    "    for i in range(len(testdata)):\n",
    "        data=testdata.iloc[i,:]\n",
    "        root=root_initial\n",
    "        while(root.leftchild != None and root.rightchild != None):\n",
    "            col_data=data[root.columnname]\n",
    "            if (col_data <= root.splitvalue):\n",
    "                root=root.leftchild\n",
    "            else:\n",
    "                root=root.rightchild    \n",
    "        list_pred.append(root.classification)\n",
    "    return list_pred    "
   ]
  },
  {
   "cell_type": "markdown",
   "metadata": {},
   "source": [
    "The following cell implements RandomForest using multi-threading"
   ]
  },
  {
   "cell_type": "code",
   "execution_count": 22,
   "metadata": {},
   "outputs": [],
   "source": [
    "import concurrent.futures\n",
    "from tqdm import tqdm\n",
    "def randomForest(dataset,nTree,testdata):\n",
    "    trees=[]\n",
    "    with concurrent.futures.ThreadPoolExecutor() as executor:\n",
    "        for i in range(nTree):\n",
    "            dp_data = dataset.copy(deep=True)\n",
    "            future=executor.submit(split,dp_data)\n",
    "            rootnode=future.result()\n",
    "            trees.append(rootnode)\n",
    "                \n",
    "    ensemble_pred=[]\n",
    "    for tree in trees:\n",
    "        list_pred=predictClass(tree,testdata)\n",
    "        ensemble_pred.append(list_pred)\n",
    "    \n",
    "    matrix_response = np.array(ensemble_pred).T\n",
    "    return [np.argmax(np.bincount(i)) for i in matrix_response]"
   ]
  },
  {
   "cell_type": "markdown",
   "metadata": {},
   "source": [
    "Here the number of trees to be built is implemented on a smaller dataset, because the size of the data hampers the speed at which the trees are being built for the algorithm implemented above\n",
    "Key points to be taken care of- the depth of the tree is 150 and for only 1000 data points, the algorithm takes 11 minutes to make 100 trees(a timer has also been included for the same)\n",
    "The tradeoff is hence between the training sample size and number of trees created"
   ]
  },
  {
   "cell_type": "code",
   "execution_count": 32,
   "metadata": {},
   "outputs": [
    {
     "name": "stdout",
     "output_type": "stream",
     "text": [
      "[1, 11, 4, 7, 7, 2, 11, 5, 7, 1, 1, 8, 7, 1, 1, 10, 4, 11, 7, 8, 11, 7, 5, 2, 4, 4, 6, 6, 6, 10, 6, 1, 3, 7, 5, 6, 9, 7, 10, 10, 10, 11, 3, 5, 8, 10, 11, 1, 10, 11, 2, 6, 11, 9, 4, 1, 4, 7, 1, 2, 8, 1, 2, 9, 4, 2, 4, 3, 4, 3, 3, 10, 7, 11, 3, 3, 3, 4, 5, 3, 5, 7, 10, 8, 7, 4, 6, 4, 10, 4, 5, 10, 6, 3, 10, 8, 5, 2, 3, 4, 8, 10, 6, 5, 8, 6, 1, 4, 6, 6, 1, 7, 3, 1, 9, 4, 7, 6, 7, 2, 1, 4, 11, 10, 2, 4, 5, 10, 3, 5, 5, 6, 7, 7, 3, 11, 6, 1, 5, 7, 4, 4, 7, 6, 5, 6, 5, 1, 7, 11, 4, 1, 2, 10, 9, 3, 3, 4, 6, 4, 5, 6, 7, 8, 3, 3, 2, 6, 1, 10, 3, 2, 8, 1, 3, 2, 1, 6, 4, 4, 3, 5, 2, 11, 11, 4, 10, 1, 3, 11, 2, 5, 9, 3, 4, 10, 9, 6, 4, 7, 3, 9, 6, 5, 7, 1, 5, 4, 10, 6, 1, 2, 7, 5, 3, 5, 6, 1, 9, 2, 8, 6, 1, 4, 10, 2, 9, 1, 11, 5, 7, 7, 4, 7, 3, 4, 7, 6, 7, 5, 3, 10, 5, 5, 8, 9, 6, 6, 10, 2, 10, 7, 3, 5, 8, 11, 3, 6, 11, 4, 2, 4, 3, 7, 6, 11, 1, 6, 1, 10, 2, 4, 7, 5, 11, 7, 11, 11, 2, 8, 1, 9, 4, 7, 7, 6, 7, 7, 5, 4, 11, 10, 8, 7, 1, 9, 2, 4, 2, 10] [112.7381820678711]\n"
     ]
    }
   ],
   "source": [
    "import time\n",
    "s = time.time()\n",
    "df = x_data\n",
    "#first 1000 records have been taken to implement the algorithm\n",
    "prediction=randomForest(df.iloc[0:1000,:],10,df.iloc[1100:1400,:])\n",
    "e = time.time()\n",
    "print(prediction,[e-s])"
   ]
  },
  {
   "cell_type": "markdown",
   "metadata": {},
   "source": [
    "Predicting data using sklearn's in-built classifier\n",
    "\n",
    "Here same amount of training and testing data has been used"
   ]
  },
  {
   "cell_type": "code",
   "execution_count": 33,
   "metadata": {},
   "outputs": [
    {
     "name": "stdout",
     "output_type": "stream",
     "text": [
      "in built classifier accuracy is =  0.9133333333333333\n",
      "Implemented RandomForest classifier accuracy is =  0.8133333333333334\n"
     ]
    }
   ],
   "source": [
    "from sklearn.ensemble import RandomForestClassifier\n",
    "from sklearn.metrics import accuracy_score\n",
    "rfc=  RandomForestClassifier(n_estimators=10)\n",
    "rf_mod = rfc.fit(df.iloc[0:1000,0:48],df.iloc[0:1000,48])\n",
    "rf_pred = rf_mod.predict(df.iloc[1100:1400,0:48])\n",
    "print(\"in built classifier accuracy is = \",accuracy_score(rf_pred,df.iloc[1100:1400,48]))\n",
    "print(\"Implemented RandomForest classifier accuracy is = \",accuracy_score(prediction,df.iloc[1100:1400,48]))"
   ]
  },
  {
   "cell_type": "markdown",
   "metadata": {},
   "source": [
    "### KNN implementation"
   ]
  },
  {
   "cell_type": "code",
   "execution_count": 5,
   "metadata": {
    "scrolled": false
   },
   "outputs": [],
   "source": [
    "def KNN_Implementation(training_data,training_y,testing_data,Number_of_neighbors):\n",
    "    #time module has only been imported to calculate the time taken to complete the algorithm\n",
    "    import time\n",
    "    y_test =[]\n",
    "    min_d = []\n",
    "    s = time.time()\n",
    "    #in this for loop, we are traversing across the rows of test dataset, so as to find the distances from all training points\n",
    "    for i in range(len(testing_data.iloc[:,:])):\n",
    "        d3 = pd.Series(np.linalg.norm(np.array(training_data)-np.array(testing_data.iloc[i,:]), axis = 1)).sort_values(ascending=True)\n",
    "        #the min_d generates the list which contains the training responses for the indexes from distance series generated\n",
    "        min_d = [training_y.iloc[d3.index[i],] for i in range(Number_of_neighbors)]\n",
    "        #the response_per_sample calculates the majority votes of classes from all given neighbors\n",
    "        response_per_sample = np.argmax(np.bincount(min_d))\n",
    "        #this is supposed to be the output from this function or the test response\n",
    "        y_test.append(response_per_sample)\n",
    "    e = time.time()\n",
    "    print(\"total running time is \",e-s)\n",
    "    return y_test"
   ]
  },
  {
   "cell_type": "markdown",
   "metadata": {
    "scrolled": false
   },
   "source": [
    "Validating across complete data with Sklearn's KNN module, n=5 has been taken, can be changed at lines 5 and 6"
   ]
  },
  {
   "cell_type": "code",
   "execution_count": 6,
   "metadata": {},
   "outputs": [
    {
     "name": "stdout",
     "output_type": "stream",
     "text": [
      "total running time is  219.43598103523254\n",
      "Sklearn accuracy score is  0.982094897045658\n",
      "manual accuracy score is  0.982094897045658\n"
     ]
    }
   ],
   "source": [
    "x_train, x_test, y_train, y_test = train_test_split((x_t/x_t.max(axis = 0)),y_t,train_size=0.7,test_size=0.3,\n",
    "                                                    random_state = 7)\n",
    "from sklearn.neighbors import KNeighborsClassifier\n",
    "from sklearn.metrics import accuracy_score\n",
    "manual_knn=KNN_Implementation(x_train,y_train,x_test,5)\n",
    "knc_mod = KNeighborsClassifier(n_neighbors=5).fit(x_train,y_train)\n",
    "kn_pred = knc_mod.predict(x_test)\n",
    "print(\"Sklearn accuracy score is \",accuracy_score(kn_pred,y_test))\n",
    "print(\"manual accuracy score is \",accuracy_score(manual_knn,y_test))"
   ]
  },
  {
   "cell_type": "markdown",
   "metadata": {},
   "source": [
    "### Accuracy, precision and recall functions"
   ]
  },
  {
   "cell_type": "code",
   "execution_count": 396,
   "metadata": {},
   "outputs": [
    {
     "data": {
      "text/plain": [
       "0.9746073085374787"
      ]
     },
     "execution_count": 396,
     "metadata": {},
     "output_type": "execute_result"
    }
   ],
   "source": [
    "def accuracy_manual(y_true,y_pred):\n",
    "    crossT = pd.crosstab(y_true,y_pred)\n",
    "    sum_d = np.trace(crossT)\n",
    "    return sum_d/len(y_true)"
   ]
  },
  {
   "cell_type": "code",
   "execution_count": 397,
   "metadata": {},
   "outputs": [
    {
     "data": {
      "text/plain": [
       "{1: 0.9938325991189427,\n",
       " 2: 0.9776586237712243,\n",
       " 3: 0.9956140350877193,\n",
       " 4: 0.9981884057971014,\n",
       " 5: 0.9814651368049426,\n",
       " 6: 0.960431654676259,\n",
       " 7: 1.0,\n",
       " 8: 0.954954954954955,\n",
       " 9: 0.9522935779816514,\n",
       " 10: 0.9010270774976658,\n",
       " 11: 1.0}"
      ]
     },
     "execution_count": 397,
     "metadata": {},
     "output_type": "execute_result"
    }
   ],
   "source": [
    "def recall_manual(y_true,y_pred):\n",
    "    import pandas as pd\n",
    "    p ={}\n",
    "    dt = pd.crosstab(y_true,y_pred)    \n",
    "    dc = pd.DataFrame(dt)\n",
    "    for i in range(dc.shape[0]):\n",
    "        p[i+1] = dt.iloc[i,i]/sum(dt.iloc[:,i])\n",
    "    return p"
   ]
  },
  {
   "cell_type": "code",
   "execution_count": 398,
   "metadata": {},
   "outputs": [
    {
     "data": {
      "text/plain": [
       "{1: 0.967409948542024,\n",
       " 2: 0.9109075770191507,\n",
       " 3: 0.9826839826839827,\n",
       " 4: 0.9963833634719711,\n",
       " 5: 0.9569707401032702,\n",
       " 6: 0.9535714285714286,\n",
       " 7: 1.0,\n",
       " 8: 0.9962406015037594,\n",
       " 9: 0.9885714285714285,\n",
       " 10: 0.9747474747474747,\n",
       " 11: 1.0}"
      ]
     },
     "execution_count": 398,
     "metadata": {},
     "output_type": "execute_result"
    }
   ],
   "source": [
    "def precision_manual(y_true,y_pred):\n",
    "    import pandas as pd\n",
    "    p ={}\n",
    "    dt = pd.crosstab(y_true,y_pred)    \n",
    "    dc = pd.DataFrame(dt)\n",
    "    for i in range(dc.shape[0]):\n",
    "        p[i+1] = dt.iloc[i,i]/sum(dt.iloc[i,:])\n",
    "    return p"
   ]
  },
  {
   "cell_type": "markdown",
   "metadata": {},
   "source": [
    "### Kmeans implementation"
   ]
  },
  {
   "cell_type": "code",
   "execution_count": 352,
   "metadata": {},
   "outputs": [],
   "source": [
    "import pandas as pd\n",
    "import numpy as np\n",
    "import matplotlib.pyplot as plt \n",
    "from sklearn.model_selection import train_test_split\n",
    "import random as rd\n",
    "from scipy.spatial import distance\n",
    "from copy import deepcopy\n",
    "from sklearn.preprocessing import Normalizer\n",
    "from sklearn.preprocessing import MinMaxScaler\n",
    "from sklearn import preprocessing\n",
    "from numpy.linalg import norm\n",
    "import collections \n",
    "import cmath as math\n",
    "import sys\n",
    "from sklearn.cluster import KMeans\n",
    "from sklearn import preprocessing\n",
    "\n",
    "# # IMPORT AND READ DATA\n",
    "df=pd.read_csv(\"/Users/karunparashar/Downloads/New Folder With Items/coursework/home_work_assignments/DIC/Assignment1/data.csv\")\n",
    "X=df.drop(columns=['48'])\n",
    "Y=df['48'].values\n",
    "\n",
    "sx=X.shape\n",
    "sy=Y.shape\n",
    "\n",
    "# # SPLIT DATA INTO TRAINING AND TESTING DATA\n",
    "train_x, test_x, train_y, test_y = train_test_split(X, Y, test_size=0.15)\n",
    "\n",
    "# # NORMALISE THE DATA\n",
    "scaler = preprocessing.MinMaxScaler()\n",
    "train_X = preprocessing.normalize(train_x)\n",
    "# print(train_x)\n",
    "train_x_norm = scaler.fit_transform(train_x)\n",
    "\n",
    "#Convert ndarray to dataframe\n",
    "train_x_norm = pd.DataFrame(train_x_norm)\n",
    "\n",
    "# # INITIALISE NUMBER OF CLUSTERS (K)\n",
    "K=11\n",
    "centroids = train_x.iloc[np.random.choice(np.arange(len(train_x)), 11, False)]\n",
    "centroids = np.asarray(centroids) \n",
    "distances=np.zeros((train_x.shape[0], K))\n",
    "clusters=[]\n",
    "\n",
    "for i in range(len(centroids)): \n",
    "    distances[:,i] = np.linalg.norm(train_x-centroids[i],axis=1) \n",
    "     \n",
    "clusters = np.argmin(distances, axis=1)\n",
    "for i in range(K):\n",
    "        centroids[i,:] = np.mean(train_x[clusters == i], axis=0)\n",
    "\n",
    "# # Making list of clusters\n",
    "dat = train_x.copy(deep=True)\n",
    "dat['index_number'] = clusters\n",
    "d ={}\n",
    "for i in np.unique(clusters):\n",
    "    d[i] = np.array(dat[dat['index_number']==i].iloc[:,0:48])"
   ]
  },
  {
   "cell_type": "markdown",
   "metadata": {},
   "source": [
    "Within cluster sum of squares and cluster calculation"
   ]
  },
  {
   "cell_type": "code",
   "execution_count": 353,
   "metadata": {},
   "outputs": [],
   "source": [
    "def cal_wcss(clusters):\n",
    "    \n",
    "    #Making list of clusters and storing it as dictionary of ndarray\n",
    "    dat = train_x_norm.copy(deep=True)\n",
    "    dat['num'] = clusters\n",
    "    d ={}\n",
    "    for i in np.unique(clusters):\n",
    "        d[i] = np.array(dat[dat['num']==i].iloc[:,0:48])\n",
    "    \n",
    "    #Making centroids\n",
    "    cent = train_x_norm.iloc[np.random.choice(np.arange(len(train_x_norm)), 11, False)]\n",
    "    cent = np.asarray(cent) \n",
    "    for i in range(K):\n",
    "        cent[i,:] = np.mean(train_x_norm[clusters == i], axis=0)\n",
    "    \n",
    "    #Calculating WCSS\n",
    "    wcss=0\n",
    "    for k in range(K):\n",
    "        wcss+=np.sum((d[k]-cent[k,:])**2)\n",
    "    return wcss\n"
   ]
  },
  {
   "cell_type": "code",
   "execution_count": 354,
   "metadata": {},
   "outputs": [],
   "source": [
    "def KM():\n",
    "    \n",
    "    #Making random centroids\n",
    "    centroids = train_x_norm.iloc[np.random.choice(np.arange(len(train_x_norm)), 11, False)]\n",
    "    centroids = np.asarray(centroids) \n",
    "    \n",
    "    distances=np.zeros((train_x_norm.shape[0], K))\n",
    "    clusters=[]\n",
    "\n",
    "    for i in range(len(centroids)): \n",
    "        distances[:,i] = np.linalg.norm(train_x_norm-centroids[i],axis=1) \n",
    "     \n",
    "    clusters = np.argmin(distances, axis=1)\n",
    "    \n",
    "    #Reassigning clusters by mean value\n",
    "    for i in range(K):\n",
    "        centroids[i,:] = np.mean(train_x_norm[clusters == i], axis=0)\n",
    "    \n",
    "    wcss=cal_wcss(clusters)\n",
    "    \n",
    "    \n",
    "    List = []\n",
    "    \n",
    "    List.append(centroids)\n",
    "    List.append(clusters)\n",
    "    List.append(wcss)\n",
    "    \n",
    "    return List "
   ]
  },
  {
   "cell_type": "code",
   "execution_count": 355,
   "metadata": {
    "scrolled": false
   },
   "outputs": [
    {
     "name": "stdout",
     "output_type": "stream",
     "text": [
      "Centroids : [[5.96281147e-01 5.44581837e-01 6.45347928e-01 8.38933253e-01\n",
      "  7.21542030e-01 7.83073317e-01 7.37011719e-01 7.36992424e-01\n",
      "  7.36993424e-01 6.74244543e-01 6.74429566e-01 6.74667957e-01\n",
      "  2.66908658e-02 3.33543099e-02 9.97415520e-02 2.62398492e-02\n",
      "  5.96215574e-02 8.41182613e-02 9.11717519e-01 9.11700523e-01\n",
      "  9.11868872e-01 9.12340111e-01 9.12386892e-01 9.12540375e-01\n",
      "  5.41910522e-01 5.56888248e-01 4.46514565e-01 5.43713143e-01\n",
      "  5.08377548e-01 5.87188775e-01 3.30098839e-01 3.45495385e-01\n",
      "  3.35521652e-01 2.14272555e-01 2.17767975e-01 2.20605450e-01\n",
      "  2.83335144e-04 3.11594607e-02 5.61393395e-02 2.77557967e-04\n",
      "  4.12043535e-02 6.88400578e-02 3.47470384e-01 3.95385842e-01\n",
      "  4.01009789e-01 3.33732503e-01 3.62300736e-01 3.26128047e-01]\n",
      " [5.96287320e-01 5.45516665e-01 6.45879542e-01 8.38951396e-01\n",
      "  7.25590930e-01 7.83551216e-01 7.42249020e-01 7.42183631e-01\n",
      "  7.42160008e-01 5.78481452e-01 5.78589565e-01 5.78788663e-01\n",
      "  8.46532742e-03 1.03914422e-02 3.16841254e-02 8.27741982e-03\n",
      "  1.89964929e-02 2.45257150e-02 2.42245631e-01 2.42240900e-01\n",
      "  2.42252403e-01 2.43235918e-01 2.43248836e-01 2.43268854e-01\n",
      "  5.41841616e-01 5.59695236e-01 4.42325828e-01 5.43516531e-01\n",
      "  5.12120750e-01 5.87678879e-01 3.16405689e-01 3.31621592e-01\n",
      "  3.22215277e-01 2.08727942e-01 2.12047950e-01 2.14766758e-01\n",
      "  2.00664758e-04 3.25241685e-02 6.12046046e-02 2.01817107e-04\n",
      "  4.06119002e-02 7.25345673e-02 3.87417471e-01 4.39493949e-01\n",
      "  4.49849913e-01 3.31868276e-01 3.60403651e-01 3.23527665e-01]\n",
      " [5.95969715e-01 5.43431407e-01 6.41749986e-01 8.39354906e-01\n",
      "  7.25472569e-01 7.83978219e-01 7.22469803e-01 7.22506403e-01\n",
      "  7.22675706e-01 7.23933906e-01 7.24106621e-01 7.24324504e-01\n",
      "  2.06826060e-02 2.36054985e-02 7.21797945e-02 2.07073433e-02\n",
      "  4.06298747e-02 5.37398143e-02 3.35397856e-01 3.35375352e-01\n",
      "  3.35232586e-01 3.34380580e-01 3.34391741e-01 3.34258540e-01\n",
      "  5.41980156e-01 5.54787771e-01 4.36508789e-01 5.42456431e-01\n",
      "  5.09500800e-01 5.91874281e-01 2.07281781e-01 2.22005424e-01\n",
      "  2.18065425e-01 2.26795061e-01 2.30438468e-01 2.33500629e-01\n",
      "  1.89762249e-03 1.28030048e-02 4.46516600e-02 4.81687382e-04\n",
      "  1.36053891e-02 5.01406123e-02 4.14515962e-01 4.68876054e-01\n",
      "  4.85091388e-01 2.54327107e-01 2.81775434e-01 2.48970500e-01]\n",
      " [5.96454206e-01 5.44349341e-01 6.47679400e-01 8.38857252e-01\n",
      "  7.18174495e-01 7.81571890e-01 7.70731504e-01 7.70727281e-01\n",
      "  7.70620986e-01 7.10548586e-01 7.10778563e-01 7.11078678e-01\n",
      "  1.30392102e-02 1.48440589e-02 4.67778883e-02 1.29670850e-02\n",
      "  2.80179556e-02 3.57523436e-02 2.99414417e-01 2.99407123e-01\n",
      "  2.99369624e-01 2.99886523e-01 2.99899000e-01 2.99874220e-01\n",
      "  5.41939466e-01 5.55293045e-01 4.56850250e-01 5.43883067e-01\n",
      "  5.04433923e-01 5.86935924e-01 3.54316481e-01 3.69851877e-01\n",
      "  3.58430283e-01 2.31805045e-01 2.35700496e-01 2.38965695e-01\n",
      "  2.17209140e-04 2.41954735e-02 6.31904968e-02 1.84095255e-04\n",
      "  3.42942584e-02 6.43966399e-02 3.75450293e-01 4.26116085e-01\n",
      "  4.35451031e-01 3.17320118e-01 3.45601127e-01 3.09723410e-01]\n",
      " [5.96244696e-01 5.44593063e-01 6.48564132e-01 8.39054094e-01\n",
      "  7.23116551e-01 7.84916738e-01 7.37557832e-01 7.37538064e-01\n",
      "  7.37387529e-01 6.12460024e-01 6.12604370e-01 6.12763026e-01\n",
      "  1.25888660e-02 1.61541548e-02 4.85072885e-02 1.25405737e-02\n",
      "  2.92184509e-02 4.10675074e-02 5.33057288e-01 5.33060403e-01\n",
      "  5.33196563e-01 5.33608827e-01 5.33647426e-01 5.33772912e-01\n",
      "  5.41853793e-01 5.54799339e-01 4.62180864e-01 5.43401472e-01\n",
      "  5.13110292e-01 5.96963304e-01 3.15503544e-01 3.30811673e-01\n",
      "  3.21258880e-01 2.15702750e-01 2.19194054e-01 2.22040195e-01\n",
      "  2.27485308e-04 4.00800576e-02 6.34767756e-02 2.18554776e-04\n",
      "  4.73689935e-02 7.69196429e-02 3.71986389e-01 4.22563061e-01\n",
      "  4.31265840e-01 3.26791566e-01 3.55302767e-01 3.19052374e-01]\n",
      " [5.96534366e-01 5.45448390e-01 6.44701027e-01 8.39011822e-01\n",
      "  7.25052675e-01 7.82891945e-01 8.42615614e-01 8.42563701e-01\n",
      "  8.42603627e-01 8.84700020e-01 8.84946740e-01 8.85240590e-01\n",
      "  1.47838705e-02 1.76712767e-02 5.28780826e-02 1.47007014e-02\n",
      "  3.14832496e-02 4.23614975e-02 3.55965790e-01 3.55957044e-01\n",
      "  3.55929119e-01 3.56621310e-01 3.56635253e-01 3.56615561e-01\n",
      "  5.41660739e-01 5.58278296e-01 4.41602925e-01 5.43450130e-01\n",
      "  5.11222741e-01 5.86807379e-01 3.07363972e-01 3.22525278e-01\n",
      "  3.13656584e-01 2.62627715e-01 2.67018145e-01 2.71058936e-01\n",
      "  2.20407956e-04 2.55986714e-02 5.72431037e-02 1.90099231e-04\n",
      "  3.57035879e-02 6.89004974e-02 3.57299040e-01 4.06016890e-01\n",
      "  4.12854253e-01 3.31987428e-01 3.60328703e-01 3.24196538e-01]\n",
      " [5.96109219e-01 5.44551701e-01 6.44867355e-01 8.38940267e-01\n",
      "  7.21958155e-01 7.81789080e-01 6.19287866e-01 6.19258289e-01\n",
      "  6.19272440e-01 5.39151922e-01 5.39274249e-01 5.39526667e-01\n",
      "  1.73806745e-02 2.17863475e-02 7.04296588e-02 1.70969650e-02\n",
      "  3.94217910e-02 5.57601279e-02 7.13234733e-01 7.13237302e-01\n",
      "  7.13404993e-01 7.13429393e-01 7.13479655e-01 7.13652241e-01\n",
      "  5.42200277e-01 5.58171784e-01 4.42980486e-01 5.43733252e-01\n",
      "  5.10957878e-01 5.85472862e-01 3.07024891e-01 3.22250615e-01\n",
      "  3.13241194e-01 2.06448750e-01 2.09770504e-01 2.12466375e-01\n",
      "  3.20231021e-04 4.50760604e-02 7.16333242e-02 2.62410058e-04\n",
      "  5.55886901e-02 8.43758407e-02 3.68571939e-01 4.18792345e-01\n",
      "  4.27370006e-01 3.21570051e-01 3.50075532e-01 3.14122088e-01]\n",
      " [5.96229014e-01 5.44997954e-01 6.42759764e-01 8.38957812e-01\n",
      "  7.21554324e-01 7.81513553e-01 7.08584366e-01 7.08541518e-01\n",
      "  7.08662121e-01 5.84692186e-01 5.84837926e-01 5.85110769e-01\n",
      "  2.16778264e-02 2.39309422e-02 7.75055138e-02 2.16867457e-02\n",
      "  4.39433194e-02 6.13927867e-02 4.00426767e-01 4.00405864e-01\n",
      "  4.00266868e-01 4.03496068e-01 4.03501674e-01 4.03365575e-01\n",
      "  5.41947498e-01 5.57888010e-01 4.39693407e-01 5.43639186e-01\n",
      "  5.09102901e-01 5.80863888e-01 3.25787609e-01 3.41096645e-01\n",
      "  3.31297236e-01 2.09660510e-01 2.13064582e-01 2.15858671e-01\n",
      "  1.99148724e-04 1.23302145e-02 4.22390342e-02 1.69733074e-04\n",
      "  1.64063767e-02 5.35183599e-02 2.78315967e-01 3.18585956e-01\n",
      "  3.16046503e-01 3.38478367e-01 3.66736237e-01 3.31500629e-01]\n",
      " [5.96357328e-01 5.45159921e-01 6.39441488e-01 8.38971319e-01\n",
      "  7.21344921e-01 7.82405422e-01 7.48997645e-01 7.48950647e-01\n",
      "  7.49230934e-01 6.51603284e-01 6.51780080e-01 6.52036866e-01\n",
      "  9.44307934e-03 1.38940939e-02 3.95402017e-02 9.47845507e-03\n",
      "  2.70520091e-02 3.25342265e-02 5.10180602e-01 5.10187640e-01\n",
      "  5.10375204e-01 5.10258986e-01 5.10298959e-01 5.10471959e-01\n",
      "  5.42047750e-01 5.60889523e-01 4.08630565e-01 5.43674724e-01\n",
      "  5.04296758e-01 5.83257755e-01 3.43589893e-01 3.59005982e-01\n",
      "  3.48648471e-01 2.18789976e-01 2.22380240e-01 2.25313755e-01\n",
      "  1.61321499e-04 5.13009836e-02 7.89378128e-02 1.55773638e-04\n",
      "  1.21905263e-01 9.02121657e-02 3.85351398e-01 4.37327374e-01\n",
      "  4.47675678e-01 3.11054570e-01 3.39396894e-01 3.03255437e-01]\n",
      " [5.95683139e-01 5.43233858e-01 6.43600523e-01 8.39226706e-01\n",
      "  7.18426413e-01 7.81787641e-01 1.50380125e-01 1.50368788e-01\n",
      "  1.50404907e-01 1.32127177e-01 1.32102172e-01 1.32259387e-01\n",
      "  1.09108189e-02 1.37519217e-02 4.26582304e-02 1.09095786e-02\n",
      "  2.46272456e-02 2.95520875e-02 3.88975436e-01 3.88975479e-01\n",
      "  3.89030425e-01 3.91500378e-01 3.91526195e-01 3.91615862e-01\n",
      "  5.42719855e-01 5.51606467e-01 4.41715484e-01 5.43665356e-01\n",
      "  5.06990183e-01 5.89633638e-01 2.99643071e-01 3.14950171e-01\n",
      "  3.06244330e-01 1.63853830e-01 1.66383444e-01 1.68002060e-01\n",
      "  2.09212061e-04 3.84146517e-02 6.78205209e-02 2.46837423e-04\n",
      "  5.15903815e-02 8.05164519e-02 4.04340735e-01 4.58179184e-01\n",
      "  4.71331943e-01 3.25318082e-01 3.53689832e-01 3.17152718e-01]\n",
      " [5.96127317e-01 5.46449842e-01 6.46730857e-01 8.38676259e-01\n",
      "  7.27500762e-01 7.84190617e-01 5.31169976e-01 5.31036822e-01\n",
      "  5.30956053e-01 5.78951248e-01 5.79043004e-01 5.79219525e-01\n",
      "  1.29466252e-02 1.55555401e-02 4.46086335e-02 1.27285228e-02\n",
      "  2.80248481e-02 3.74934033e-02 3.00440033e-01 3.00432326e-01\n",
      "  3.00412284e-01 3.01699157e-01 3.01712008e-01 3.01685506e-01\n",
      "  5.41727384e-01 5.61648091e-01 4.44467937e-01 5.43403374e-01\n",
      "  5.13770739e-01 5.91142525e-01 3.14050532e-01 3.29155087e-01\n",
      "  3.19878588e-01 2.02666355e-01 2.05844900e-01 2.08385541e-01\n",
      "  2.49113607e-04 2.64579377e-02 5.65832772e-02 4.81939344e-04\n",
      "  3.84259890e-02 6.77625003e-02 3.75200856e-01 4.25858651e-01\n",
      "  4.35074481e-01 3.28186705e-01 3.56564447e-01 3.20358310e-01]]\n",
      "\n",
      "Clusters : [10 10  4 ...  7  4  0]\n",
      "\n",
      "Within Clusters Sum of Squares (WCSS) : 6511.6171714344655\n",
      "\n"
     ]
    }
   ],
   "source": [
    "Answer = []\n",
    "Answer = KM()\n",
    "print(\"Centroids :\", Answer[0])\n",
    "print()\n",
    "print(\"Clusters :\", Answer[1])\n",
    "print()\n",
    "print(\"Within Clusters Sum of Squares (WCSS) :\", Answer[2])\n",
    "print()"
   ]
  },
  {
   "cell_type": "markdown",
   "metadata": {},
   "source": [
    "Sklearn Kmeans"
   ]
  },
  {
   "cell_type": "code",
   "execution_count": 356,
   "metadata": {
    "scrolled": false
   },
   "outputs": [
    {
     "name": "stdout",
     "output_type": "stream",
     "text": [
      "Centroids :  [[5.96291177e-01 5.44336162e-01 6.43878312e-01 8.38881897e-01\n",
      "  7.20909249e-01 7.82186635e-01 7.80093027e-01 7.80090312e-01\n",
      "  7.80164030e-01 7.44302216e-01 7.44523315e-01 7.44809441e-01\n",
      "  1.45991544e-02 1.84215010e-02 5.83755822e-02 1.46057748e-02\n",
      "  3.30748639e-02 4.77674387e-02 6.04060648e-01 6.04066504e-01\n",
      "  6.04208153e-01 6.04358984e-01 6.04403656e-01 6.04535402e-01\n",
      "  5.42151497e-01 5.55280246e-01 4.44483912e-01 5.43625405e-01\n",
      "  5.09283923e-01 5.89542682e-01 3.31468440e-01 3.46867370e-01\n",
      "  3.36794338e-01 2.24016425e-01 2.27691337e-01 2.30755470e-01\n",
      "  2.34201777e-04 4.18285318e-02 7.33308768e-02 2.37296410e-04\n",
      "  5.95422972e-02 8.73471663e-02 3.68322092e-01 4.18514751e-01\n",
      "  4.26704987e-01 3.22017157e-01 3.50502539e-01 3.14376361e-01]\n",
      " [5.96341643e-01 5.45256408e-01 6.47279098e-01 8.39337412e-01\n",
      "  7.25434556e-01 7.84142846e-01 6.39492754e-01 6.39429999e-01\n",
      "  6.39332188e-01 5.73396035e-01 5.73503274e-01 5.73680210e-01\n",
      "  2.50757094e-02 3.19032678e-02 9.56532949e-02 2.45560556e-02\n",
      "  5.64807039e-02 7.92645351e-02 9.06142947e-01 9.06128601e-01\n",
      "  9.06317887e-01 9.06643443e-01 9.06692467e-01 9.06876703e-01\n",
      "  5.41728329e-01 5.58097544e-01 4.45603672e-01 5.43506957e-01\n",
      "  5.12500114e-01 5.86123572e-01 3.04425538e-01 3.19661127e-01\n",
      "  3.10851435e-01 2.19380082e-01 2.22954304e-01 2.25956463e-01\n",
      "  2.67195368e-04 3.58654163e-02 5.82905116e-02 2.73903978e-04\n",
      "  4.42245780e-02 7.17732951e-02 3.52231603e-01 4.00641043e-01\n",
      "  4.06947088e-01 3.29647777e-01 3.58176570e-01 3.22186251e-01]\n",
      " [5.96236518e-01 5.44834875e-01 6.44896728e-01 8.38960034e-01\n",
      "  7.22725556e-01 7.82812339e-01 7.33153494e-01 7.33121231e-01\n",
      "  7.33143141e-01 6.17324765e-01 6.17474643e-01 6.17709015e-01\n",
      "  1.73042092e-02 1.93691510e-02 6.06644273e-02 1.70782640e-02\n",
      "  3.57450059e-02 4.74776866e-02 3.67301334e-01 3.67287442e-01\n",
      "  3.67219074e-01 3.68800087e-01 3.68813567e-01 3.68754461e-01\n",
      "  5.41937008e-01 5.57509659e-01 4.44767985e-01 5.43605665e-01\n",
      "  5.09879318e-01 5.88412346e-01 3.10566120e-01 3.25789413e-01\n",
      "  3.16667201e-01 2.19421376e-01 2.22987803e-01 2.25969711e-01\n",
      "  2.08175956e-04 2.12329871e-02 5.12075108e-02 1.86672865e-04\n",
      "  2.84288273e-02 6.09060413e-02 3.48676577e-01 3.96380727e-01\n",
      "  4.02857557e-01 3.28340193e-01 3.56624451e-01 3.21043641e-01]\n",
      " [5.95905854e-01 5.44517574e-01 6.44769418e-01 8.38836689e-01\n",
      "  7.21688655e-01 7.82921723e-01 2.25433355e-01 2.25366302e-01\n",
      "  2.25353225e-01 5.67067470e-02 5.66206569e-02 5.67201270e-02\n",
      "  2.43126971e-03 4.42389760e-03 1.08800256e-02 2.61742590e-03\n",
      "  8.10624452e-03 8.78687408e-03 2.52351072e-01 2.52359503e-01\n",
      "  2.52497666e-01 2.53607842e-01 2.53629934e-01 2.53772078e-01\n",
      "  5.42437870e-01 5.54762559e-01 4.43063058e-01 5.43891275e-01\n",
      "  5.08941642e-01 5.91293607e-01 1.85599228e-01 1.99976971e-01\n",
      "  1.96787649e-01 1.85975390e-01 1.88912207e-01 1.91087549e-01\n",
      "  2.23082201e-04 4.43391021e-02 7.57097776e-02 2.24076898e-04\n",
      "  6.75959938e-02 8.58700558e-02 4.51069729e-01 5.10141107e-01\n",
      "  5.28177403e-01 3.44898046e-01 3.73742935e-01 3.35589946e-01]\n",
      " [5.96184497e-01 5.44134604e-01 6.43092262e-01 8.38527645e-01\n",
      "  7.18670307e-01 7.80755723e-01 8.08682858e-01 8.08693092e-01\n",
      "  8.08806108e-01 7.71615329e-01 7.71867754e-01 7.72211060e-01\n",
      "  2.30467020e-02 2.97106936e-02 8.64485102e-02 2.26849048e-02\n",
      "  5.32490337e-02 7.35317278e-02 8.80575233e-01 8.80565344e-01\n",
      "  8.80777689e-01 8.81215324e-01 8.81266900e-01 8.81464623e-01\n",
      "  5.42220553e-01 5.56793081e-01 4.45339599e-01 5.44048533e-01\n",
      "  5.05890471e-01 5.84516639e-01 3.53398167e-01 3.68924088e-01\n",
      "  3.57871604e-01 2.10006802e-01 2.13429302e-01 2.16137622e-01\n",
      "  4.81915802e-04 3.74239165e-02 6.03736812e-02 2.77629037e-04\n",
      "  5.01871983e-02 7.48243156e-02 3.49422499e-01 3.97587144e-01\n",
      "  4.03266252e-01 3.32917753e-01 3.61498391e-01 3.25105959e-01]\n",
      " [5.95691250e-01 5.43573440e-01 6.45505860e-01 8.38893848e-01\n",
      "  7.17515565e-01 7.80303188e-01 2.86566863e-01 2.86552527e-01\n",
      "  2.86509763e-01 7.48039909e-02 7.47617488e-02 7.49584139e-02\n",
      "  1.81977501e-02 2.27098072e-02 6.70033519e-02 1.82256549e-02\n",
      "  4.29978709e-02 6.28235676e-02 7.51258016e-01 7.51259559e-01\n",
      "  7.51464269e-01 7.51432051e-01 7.51477731e-01 7.51650148e-01\n",
      "  5.42606219e-01 5.51979475e-01 4.46562038e-01 5.44137539e-01\n",
      "  5.06976234e-01 5.87316620e-01 2.69494183e-01 2.84476492e-01\n",
      "  2.76986313e-01 1.78353468e-01 1.81139396e-01 1.83152749e-01\n",
      "  2.68886730e-04 4.15634110e-02 6.90187654e-02 2.41199212e-04\n",
      "  5.93351797e-02 8.30579000e-02 3.72356228e-01 4.22987737e-01\n",
      "  4.31808171e-01 3.27895898e-01 3.56453297e-01 3.20056910e-01]\n",
      " [5.96259639e-01 5.44937121e-01 6.45133526e-01 8.38846703e-01\n",
      "  7.23017476e-01 7.82969462e-01 6.90972944e-01 6.90931372e-01\n",
      "  6.90938705e-01 6.03919972e-01 6.04061448e-01 6.04287123e-01\n",
      "  2.01080675e-03 3.70407849e-03 1.07171022e-02 2.03339792e-03\n",
      "  6.69660000e-03 8.68477575e-03 1.44336931e-01 1.44340067e-01\n",
      "  1.44406800e-01 1.44983723e-01 1.44996132e-01 1.45064057e-01\n",
      "  5.42042701e-01 5.59537006e-01 4.42957299e-01 5.43687067e-01\n",
      "  5.11295288e-01 5.87437877e-01 3.20071205e-01 3.35355406e-01\n",
      "  3.25715914e-01 2.09190675e-01 2.12559196e-01 2.15248924e-01\n",
      "  2.12715910e-04 3.71143412e-02 6.67845513e-02 2.17137232e-04\n",
      "  5.08125848e-02 7.79160022e-02 4.09156030e-01 4.63818825e-01\n",
      "  4.76057349e-01 3.27338430e-01 3.56033077e-01 3.18451619e-01]\n",
      " [5.96262460e-01 5.45284327e-01 6.47235672e-01 8.39048619e-01\n",
      "  7.24657686e-01 7.84494433e-01 6.49642645e-01 6.49579564e-01\n",
      "  6.49484559e-01 5.59412211e-01 5.59520033e-01 5.59681255e-01\n",
      "  1.56075164e-02 1.94847976e-02 6.69271422e-02 1.52980031e-02\n",
      "  3.52226963e-02 4.93512571e-02 6.45733330e-01 6.45736840e-01\n",
      "  6.45874857e-01 6.46144757e-01 6.46192570e-01 6.46350736e-01\n",
      "  5.41774905e-01 5.59709764e-01 4.44659584e-01 5.43272022e-01\n",
      "  5.12124499e-01 5.88748421e-01 3.09489170e-01 3.24712295e-01\n",
      "  3.15616793e-01 2.06910434e-01 2.10228933e-01 2.12951980e-01\n",
      "  4.50557851e-04 4.66523130e-02 7.33039392e-02 2.83284352e-04\n",
      "  5.95575952e-02 8.31094228e-02 3.71748495e-01 4.22324271e-01\n",
      "  4.31463736e-01 3.20707362e-01 3.49229457e-01 3.13402574e-01]\n",
      " [5.96346639e-01 5.47126022e-01 6.47464820e-01 8.38934312e-01\n",
      "  7.28991150e-01 7.83998454e-01 5.18691554e-01 5.18523397e-01\n",
      "  5.18407045e-01 5.69301292e-01 5.69375925e-01 5.69557016e-01\n",
      "  1.60086804e-02 1.90210729e-02 5.49619184e-02 1.57330435e-02\n",
      "  3.43867334e-02 4.64648781e-02 3.59534232e-01 3.59524173e-01\n",
      "  3.59486108e-01 3.61004058e-01 3.61017455e-01 3.60965616e-01\n",
      "  5.41791763e-01 5.62607963e-01 4.44886709e-01 5.43465127e-01\n",
      "  5.14667884e-01 5.88282104e-01 3.18803467e-01 3.33932748e-01\n",
      "  3.24467075e-01 1.97280548e-01 2.00342043e-01 2.02789490e-01\n",
      "  2.34518404e-04 2.36665744e-02 5.46267059e-02 5.53377766e-04\n",
      "  3.27369773e-02 6.39886687e-02 3.61673815e-01 4.10769698e-01\n",
      "  4.18626529e-01 3.28614612e-01 3.56905903e-01 3.21092419e-01]\n",
      " [5.96535607e-01 5.45380279e-01 6.45066420e-01 8.39044858e-01\n",
      "  7.24163781e-01 7.82651533e-01 8.34194560e-01 8.34145207e-01\n",
      "  8.34167195e-01 8.49484344e-01 8.49723299e-01 8.50017554e-01\n",
      "  1.18290860e-02 1.46925287e-02 4.19605297e-02 1.17896489e-02\n",
      "  2.66405210e-02 3.28102287e-02 2.81411903e-01 2.81403071e-01\n",
      "  2.81384487e-01 2.81194950e-01 2.81204291e-01 2.81194231e-01\n",
      "  5.41697025e-01 5.58537503e-01 4.45193238e-01 5.43536505e-01\n",
      "  5.08604861e-01 5.86385945e-01 3.15790989e-01 3.31002726e-01\n",
      "  3.21645762e-01 2.58811396e-01 2.63149878e-01 2.67061448e-01\n",
      "  1.98692862e-04 2.91180524e-02 6.22581313e-02 1.78134516e-04\n",
      "  3.94170204e-02 7.05081238e-02 3.77786164e-01 4.28705098e-01\n",
      "  4.37925169e-01 3.16578240e-01 3.44751324e-01 3.08675753e-01]\n",
      " [5.94686793e-01 5.41130121e-01 6.41449411e-01 8.38617889e-01\n",
      "  7.13726908e-01 7.79765758e-01 7.62265722e-02 7.63121622e-02\n",
      "  7.64438420e-02 2.38720993e-01 2.38783410e-01 2.39037121e-01\n",
      "  2.23362824e-02 2.53109222e-02 7.96347505e-02 2.21934375e-02\n",
      "  4.36192146e-02 5.32636186e-02 3.61817373e-01 3.61797587e-01\n",
      "  3.61618656e-01 3.66221327e-01 3.66228796e-01 3.66129659e-01\n",
      "  5.42543156e-01 5.50596308e-01 4.38717506e-01 5.42974553e-01\n",
      "  5.06146201e-01 5.89770346e-01 4.28065722e-01 4.44307540e-01\n",
      "  4.29268674e-01 1.27501645e-01 1.29330025e-01 1.30015590e-01\n",
      "  2.72738365e-04 1.41647566e-02 4.15877441e-02 3.79769092e-04\n",
      "  1.35112036e-02 5.30825296e-02 3.67159062e-01 4.16710985e-01\n",
      "  4.26508763e-01 3.15921970e-01 3.43757721e-01 3.08651521e-01]]\n",
      "\n",
      "Clusters :  [8 8 2 ... 2 0 1]\n",
      "\n",
      "Within Clusters Sum of Squares (WCSS) : 4082.525571381937\n",
      "\n"
     ]
    }
   ],
   "source": [
    "# Number of clusters\n",
    "kmeans = KMeans(n_clusters=11)\n",
    "# Fitting the input data\n",
    "kmeans = kmeans.fit(train_x_norm)\n",
    "# Getting the cluster labels\n",
    "labels = kmeans.predict(train_x_norm)\n",
    "# Centroid values\n",
    "centroids_2 = kmeans.cluster_centers_\n",
    "wcss1 = []\n",
    "for i in range(0, 10):\n",
    "    wcss1.append(kmeans.inertia_)\n",
    "print(\"Centroids : \", centroids_2)\n",
    "print()\n",
    "print(\"Clusters : \", labels)\n",
    "print()\n",
    "print(\"Within Clusters Sum of Squares (WCSS) :\", wcss1[0])\n",
    "print()"
   ]
  },
  {
   "cell_type": "markdown",
   "metadata": {},
   "source": [
    "### PCA Implementation"
   ]
  },
  {
   "cell_type": "code",
   "execution_count": 357,
   "metadata": {},
   "outputs": [],
   "source": [
    "def pca_implementation(dataframe,k):\n",
    "    #taking all columns except the response\n",
    "    df_a = dataframe.iloc[:,0:48]\n",
    "    #calculating mean across all columns to normalise the data\n",
    "    mean_df = np.mean(df_a)\n",
    "    #removing the mean from all records for all columns to center the data\n",
    "    df_c = df_a - mean_df\n",
    "    df_c = df_c.T\n",
    "    #calculating covariance matrix for centered data\n",
    "    df_var = np.cov(df_c)\n",
    "    #calculating eigen values and eigen vectors for the covariance matrix\n",
    "    eig_val, eig_vec = np.linalg.eig(df_var)\n",
    "    #extracting top k eigen vectors\n",
    "    df_test = pd.DataFrame(eig_vec)\n",
    "    df_test.iloc[:,k:]=0\n",
    "    #projecting the top-k eigen vector plane onto the existing dataset\n",
    "    Projection = -(np.array(df_test).T.dot(df_c)).T\n",
    "    return pd.DataFrame(Projection).iloc[:,0:k]"
   ]
  },
  {
   "cell_type": "markdown",
   "metadata": {},
   "source": [
    "Validating with the sklearn's PCA module, number of features can be specified in the below cell"
   ]
  },
  {
   "cell_type": "code",
   "execution_count": 368,
   "metadata": {},
   "outputs": [
    {
     "name": "stdout",
     "output_type": "stream",
     "text": [
      "Principal components with Sklearn-                0          1         2\n",
      "0      -7.585132   0.253804  0.246843\n",
      "1      -8.752380  -0.037331  0.122418\n",
      "2      -2.086987  -1.278239  0.150201\n",
      "3     -10.575990   0.122271  0.325414\n",
      "4      -3.330015   0.054105  0.406775\n",
      "...          ...        ...       ...\n",
      "40951  -8.162366   0.916487  0.341272\n",
      "40952  -5.773473   1.832014  0.150703\n",
      "40953  12.678249   8.674939  0.441712\n",
      "40954  29.135663 -20.213507 -1.722138\n",
      "40955  -7.752290   2.051951  0.362834\n",
      "\n",
      "[40956 rows x 3 columns]\n",
      "Principal components with above implementation-                0          1         2\n",
      "0      -7.585132   0.253804  0.246843\n",
      "1      -8.752380  -0.037331  0.122418\n",
      "2      -2.086987  -1.278239  0.150201\n",
      "3     -10.575990   0.122271  0.325414\n",
      "4      -3.330015   0.054105  0.406775\n",
      "...          ...        ...       ...\n",
      "40951  -8.162366   0.916487  0.341272\n",
      "40952  -5.773473   1.832014  0.150703\n",
      "40953  12.678249   8.674939  0.441712\n",
      "40954  29.135663 -20.213507 -1.722138\n",
      "40955  -7.752290   2.051951  0.362834\n",
      "\n",
      "[40956 rows x 3 columns]\n"
     ]
    }
   ],
   "source": [
    "from sklearn.decomposition import PCA\n",
    "manual_imp = pca_implementation(df,3)\n",
    "pca = PCA(n_components=3)\n",
    "principalComponents = pca.fit_transform(df.iloc[:,0:48])\n",
    "principalDf = pd.DataFrame(data = principalComponents)\n",
    "print(\"Principal components with Sklearn-\",principalDf)\n",
    "print(\"Principal components with above implementation-\",manual_imp)"
   ]
  },
  {
   "cell_type": "code",
   "execution_count": null,
   "metadata": {},
   "outputs": [],
   "source": []
  }
 ],
 "metadata": {
  "kernelspec": {
   "display_name": "Python 3",
   "language": "python",
   "name": "python3"
  },
  "language_info": {
   "codemirror_mode": {
    "name": "ipython",
    "version": 3
   },
   "file_extension": ".py",
   "mimetype": "text/x-python",
   "name": "python",
   "nbconvert_exporter": "python",
   "pygments_lexer": "ipython3",
   "version": "3.7.3"
  }
 },
 "nbformat": 4,
 "nbformat_minor": 2
}
